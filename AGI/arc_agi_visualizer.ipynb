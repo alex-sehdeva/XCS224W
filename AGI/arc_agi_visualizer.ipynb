{
 "cells": [
  {
   "cell_type": "markdown",
   "metadata": {},
   "source": [
    "# ARC AGI Visualizer and Concept Tagger\n",
    "This notebook allows you to visualize ARC AGI tasks and tag them with required concepts.\n",
    "- Use the `Previous` and `Next` buttons to navigate.\n",
    "- Type concept tags and save them to a JSON file."
   ]
  },
  {
   "cell_type": "code",
   "execution_count": 1,
   "metadata": {},
   "outputs": [],
   "source": [
    "import os\n",
    "import json\n",
    "import requests\n",
    "import matplotlib.pyplot as plt\n",
    "import matplotlib.colors as mcolors\n",
    "import ipywidgets as widgets\n",
    "from IPython.display import display, clear_output"
   ]
  },
  {
   "cell_type": "code",
   "execution_count": 19,
   "metadata": {},
   "outputs": [
    {
     "name": "stdout",
     "output_type": "stream",
     "text": [
      "Loaded 0 task IDs.\n",
      "[]\n"
     ]
    }
   ],
   "source": [
    "import os\n",
    "import requests\n",
    "from bs4 import BeautifulSoup\n",
    "\n",
    "def get_arc_task_ids(split=\"training\"):\n",
    "    url = f\"https://github.com/fchollet/ARC/tree/master/data/{split}\"\n",
    "    raw_prefix = f\"https://raw.githubusercontent.com/fchollet/ARC/master/data/{split}/\"\n",
    "    r = requests.get(url)\n",
    "    soup = BeautifulSoup(r.text, \"html.parser\")\n",
    "    task_ids = [a.text.replace(\".json\", \"\") for a in soup.find_all(\"a\") if a.text.endswith(\".json\")]\n",
    "    return task_ids\n",
    "\n",
    "training_ids = get_arc_task_ids(\"training\")\n",
    "print(f\"Loaded {len(training_ids)} task IDs.\")\n",
    "print(training_ids[:5])  # show a sample\n"
   ]
  },
  {
   "cell_type": "code",
   "execution_count": 20,
   "metadata": {},
   "outputs": [
    {
     "name": "stdout",
     "output_type": "stream",
     "text": [
      "Found 400 tasks, e.g.: ['007bbfb7', '00d62c1b', '017c7c7b', '025d127b', '045e512c']\n"
     ]
    }
   ],
   "source": [
    "import os\n",
    "import subprocess\n",
    "\n",
    "# 1. Clone repository (only once)\n",
    "if not os.path.isdir(\"ARC-AGI\"):\n",
    "    subprocess.run([\"git\", \"clone\", \"--depth\", \"1\",\n",
    "        \"https://github.com/fchollet/ARC-AGI.git\"])\n",
    "\n",
    "# 2. List training task IDs\n",
    "task_dir = \"ARC-AGI/data/training\"\n",
    "task_ids = [fname[:-5] for fname in os.listdir(task_dir) if fname.endswith(\".json\")]\n",
    "print(f\"Found {len(task_ids)} tasks, e.g.: {task_ids[:5]}\")\n"
   ]
  },
  {
   "cell_type": "code",
   "execution_count": null,
   "metadata": {},
   "outputs": [],
   "source": [
    "# Sample ARC tasks\n",
    "ARC_AGI_URL = \"https://raw.githubusercontent.com/fchollet/ARC/master/data/training/\"\n",
    "TASK_IDS = [\n",
    "    '0b148d64', '0c786b71', '0d3d703e', '0dfd9992', '0e206a2e'\n",
    "]\n",
    "os.makedirs(\"arc_tasks\", exist_ok=True)\n",
    "#for task_id in TASK_IDS:\n",
    "for task_id in task_ids:\n",
    "    url = f\"{ARC_AGI_URL}{task_id}.json\"\n",
    "    r = requests.get(url)\n",
    "    with open(f\"arc_tasks/{task_id}.json\", 'w') as f:\n",
    "        f.write(r.text)"
   ]
  },
  {
   "cell_type": "code",
   "execution_count": null,
   "metadata": {},
   "outputs": [],
   "source": [
    "\n",
    "import matplotlib.colors as mcolors\n",
    "\n",
    "# Fixed color map for ARC values 0–9\n",
    "\n",
    "\n",
    "def plot_grid(grid, ax):\n",
    "    #cmap = mcolors.ListedColormap([\n",
    "    #    \"#000000\", \"#0074D9\", \"#2ECC40\", \"#FFDC00\", \"#FF4136\",\n",
    "    #    \"#AAAAAA\", \"#F012BE\", \"#FF851B\", \"#7FDBFF\", \"#870C25\"\n",
    "    #])\n",
    "    #cmap = mcolors.ListedColormap([\n",
    "    #\"#000000\",  # 0 - black\n",
    "    #\"#1f77b4\",  # 1 - blue\n",
    "    #\"#ff7f0e\",  # 2 - orange\n",
    "    #\"#2ca02c\",  # 3 - green\n",
    "    #\"#d62728\",  # 4 - red\n",
    "    #\"#9467bd\",  # 5 - purple\n",
    "    #\"#8c564b\",  # 6 - brown\n",
    "    #\"#e377c2\",  # 7 - pink\n",
    "    #\"#17becf\",  # 8 - cyan\n",
    "    #\"#bcbd22\"   # 9 - olive\n",
    "    #])\n",
    "\n",
    "    cmap = mcolors.ListedColormap([\n",
    "    \"#000000\",  # 0 - black\n",
    "    \"#1f77b4\",  # 1 - blue\n",
    "    \"#ff7f0e\",  # 2 - orange\n",
    "    \"#2ca02c\",  # 3 - green\n",
    "    \"#d62728\",  # 4 - red\n",
    "    \"#9467bd\",  # 5 - purple\n",
    "    \"#8c564b\",  # 6 - brown\n",
    "    \"#e377c2\",  # 7 - pink\n",
    "    \"#17becf\",  # 8 - cyan\n",
    "    \"#bcbd22\"   # 9 - olive/lime\n",
    "    ])\n",
    "    norm = mcolors.BoundaryNorm(boundaries=range(11), ncolors=10)\n",
    "    ax.imshow(grid, cmap=cmap, norm=norm, interpolation='none')\n",
    "    #ax.imshow(grid, cmap=cmap, interpolation='none')\n",
    "    ax.set_xticks([])\n",
    "    ax.set_yticks([])\n",
    "    print(grid)"
   ]
  },
  {
   "cell_type": "code",
   "execution_count": null,
   "metadata": {},
   "outputs": [],
   "source": [
    "class ARCViewer:\n",
    "    def __init__(self, task_dir=\"arc_tasks\", tag_file=\"concept_tags.json\"):\n",
    "        self.task_files = sorted(os.listdir(task_dir))\n",
    "        self.index = 0\n",
    "        self.task_dir = task_dir\n",
    "        self.tag_file = tag_file\n",
    "        self.tags = self.load_tags()\n",
    "        self.tag_input = widgets.Text(description='Tags:')\n",
    "        self.save_btn = widgets.Button(description='Save Tags')\n",
    "        self.output = widgets.Output()\n",
    "        self.save_btn.on_click(self.save_tags)\n",
    "        self.update_display()\n",
    "        self.create_widgets()\n",
    "\n",
    "    def load_tags(self):\n",
    "        if os.path.exists(self.tag_file):\n",
    "            with open(self.tag_file) as f:\n",
    "                return json.load(f)\n",
    "        return {}\n",
    "\n",
    "    def save_tags(self, _):\n",
    "        task_id = self.task_files[self.index].replace('.json', '')\n",
    "        self.tags[task_id] = [t.strip() for t in self.tag_input.value.split(',') if t.strip()]\n",
    "        with open(self.tag_file, 'w') as f:\n",
    "            json.dump(self.tags, f, indent=2)\n",
    "        with self.output:\n",
    "            print(f\"Saved tags for {task_id}: {self.tags[task_id]}\")\n",
    "\n",
    "    def create_widgets(self):\n",
    "        prev_btn = widgets.Button(description=\"Previous\")\n",
    "        next_btn = widgets.Button(description=\"Next\")\n",
    "        prev_btn.on_click(self.prev_task)\n",
    "        next_btn.on_click(self.next_task)\n",
    "        display(widgets.HBox([prev_btn, next_btn, self.tag_input, self.save_btn]), self.output)\n",
    "\n",
    "    def load_task(self, index):\n",
    "        with open(os.path.join(self.task_dir, self.task_files[index])) as f:\n",
    "            return json.load(f)\n",
    "\n",
    "    def update_display(self):\n",
    "        with self.output:\n",
    "            clear_output(wait=True)\n",
    "            task_id = self.task_files[self.index].replace('.json', '')\n",
    "            task = self.load_task(self.index)\n",
    "            fig, axes = plt.subplots(len(task[\"train\"]), 2, figsize=(5, 2 * len(task[\"train\"])))\n",
    "            fig.suptitle(f\"Task: {task_id}\", fontsize=14)\n",
    "            for i, pair in enumerate(task[\"train\"]):\n",
    "                print(i,\"input\")\n",
    "                plot_grid(pair[\"input\"], axes[i, 0])\n",
    "                print(i,\"output\")\n",
    "                plot_grid(pair[\"output\"], axes[i, 1])\n",
    "                axes[i, 0].set_title(\"Input\")\n",
    "                axes[i, 1].set_title(\"Output\")\n",
    "            self.tag_input.value = ', '.join(self.tags.get(task_id, []))\n",
    "            plt.tight_layout()\n",
    "            suggestions = suggest_concepts(task[\"train\"][0])\n",
    "            print(f\"Suggested concepts: {', '.join(suggestions)}\")            \n",
    "            plt.show()\n",
    "\n",
    "    def prev_task(self, _):\n",
    "        if self.index > 0:\n",
    "            self.index -= 1\n",
    "            self.update_display()\n",
    "\n",
    "    def next_task(self, _):\n",
    "        if self.index < len(self.task_files) - 1:\n",
    "            self.index += 1\n",
    "            self.update_display()\n",
    "\n",
    "viewer = ARCViewer()"
   ]
  },
  {
   "cell_type": "code",
   "execution_count": null,
   "metadata": {},
   "outputs": [],
   "source": [
    "def suggest_concepts(pair):\n",
    "    input_grid = pair['input']\n",
    "    output_grid = pair['output']\n",
    "\n",
    "    concepts = set()\n",
    "    if len(input_grid) != len(output_grid) or len(input_grid[0]) != len(output_grid[0]):\n",
    "        concepts.add(\"size change\")\n",
    "    \n",
    "    unique_colors_in = set([cell for row in input_grid for cell in row])\n",
    "    unique_colors_out = set([cell for row in output_grid for cell in row])\n",
    "    if unique_colors_in != unique_colors_out:\n",
    "        concepts.add(\"color transformation\")\n",
    "\n",
    "    if input_grid == output_grid:\n",
    "        concepts.add(\"identity\")\n",
    "    \n",
    "    if any(row != output_grid[i] for i, row in enumerate(input_grid)):\n",
    "        concepts.add(\"pattern shift or symmetry\")\n",
    "    \n",
    "    return list(concepts)"
   ]
  },
  {
   "cell_type": "code",
   "execution_count": null,
   "metadata": {},
   "outputs": [],
   "source": []
  }
 ],
 "metadata": {
  "kernelspec": {
   "display_name": "Python 3 (ipykernel)",
   "language": "python",
   "name": "python3"
  },
  "language_info": {
   "codemirror_mode": {
    "name": "ipython",
    "version": 3
   },
   "file_extension": ".py",
   "mimetype": "text/x-python",
   "name": "python",
   "nbconvert_exporter": "python",
   "pygments_lexer": "ipython3",
   "version": "3.10.16"
  }
 },
 "nbformat": 4,
 "nbformat_minor": 4
}
