{
 "cells": [
  {
   "cell_type": "code",
   "execution_count": 3,
   "id": "0df6ac60-44e0-437f-a11f-285e4a97599c",
   "metadata": {},
   "outputs": [
    {
     "name": "stdout",
     "output_type": "stream",
     "text": [
      "Hello from Aura!\n"
     ]
    }
   ],
   "source": [
    "import os\n",
    "from pathlib import Path\n",
    "from dotenv import dotenv_values\n",
    "from neo4j import GraphDatabase\n",
    "\n",
    "# Path to your .env-style file\n",
    "env_path = Path(r\"C:\\Users\\alex_\\Downloads\\neo4j.env\")\n",
    "\n",
    "# Load environment variables into a dictionary\n",
    "config = dotenv_values(dotenv_path=env_path)\n",
    "\n",
    "# Extract values\n",
    "uri = config.get(\"NEO4J_URI\")\n",
    "username = config.get(\"NEO4J_USERNAME\")\n",
    "password = config.get(\"NEO4J_PASSWORD\")\n",
    "database = config.get(\"NEO4J_DATABASE\")\n",
    "\n",
    "# Create driver and test connection\n",
    "driver = GraphDatabase.driver(uri, auth=(username, password))\n",
    "\n",
    "def test_connection():\n",
    "    with driver.session(database=database) as session:\n",
    "        result = session.run(\"RETURN 'Hello from Aura!' AS message\")\n",
    "        print(result.single()[\"message\"])\n",
    "\n",
    "test_connection()\n",
    "driver.close()\n"
   ]
  },
  {
   "cell_type": "code",
   "execution_count": null,
   "id": "92ed8a70-2b11-4f88-a6a1-3955f63faa15",
   "metadata": {},
   "outputs": [],
   "source": []
  }
 ],
 "metadata": {
  "kernelspec": {
   "display_name": "Python 3 (ipykernel)",
   "language": "python",
   "name": "python3"
  },
  "language_info": {
   "codemirror_mode": {
    "name": "ipython",
    "version": 3
   },
   "file_extension": ".py",
   "mimetype": "text/x-python",
   "name": "python",
   "nbconvert_exporter": "python",
   "pygments_lexer": "ipython3",
   "version": "3.10.16"
  }
 },
 "nbformat": 4,
 "nbformat_minor": 5
}
